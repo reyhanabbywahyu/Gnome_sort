{
  "nbformat": 4,
  "nbformat_minor": 0,
  "metadata": {
    "colab": {
      "name": "Genome Sort.ipynb",
      "provenance": [],
      "authorship_tag": "ABX9TyMcMqs3zWxHgPLMoktj1qgt",
      "include_colab_link": true
    },
    "kernelspec": {
      "display_name": "Python 3",
      "name": "python3"
    }
  },
  "cells": [
    {
      "cell_type": "markdown",
      "metadata": {
        "id": "view-in-github",
        "colab_type": "text"
      },
      "source": [
        "<a href=\"https://colab.research.google.com/github/reyhanabbywahyu/Analisis-Kompleksitas-Algoritma/blob/main/Genome_Sort.ipynb\" target=\"_parent\"><img src=\"https://colab.research.google.com/assets/colab-badge.svg\" alt=\"Open In Colab\"/></a>"
      ]
    },
    {
      "cell_type": "code",
      "metadata": {
        "colab": {
          "base_uri": "https://localhost:8080/"
        },
        "id": "9UNN441XHDqB",
        "outputId": "bf699e5c-6a4a-48e3-f611-e7937396bd5d"
      },
      "source": [
        "# Python program to implement Gnome Sort \r\n",
        "\r\n",
        "# A function to sort the given list using Gnome sort \r\n",
        "def gnomeSort( arr, n): \r\n",
        "\tindex = 0\r\n",
        "\twhile index < n: \r\n",
        "\t\tif index == 0: \r\n",
        "\t\t\tindex = index + 1\r\n",
        "\t\tif arr[index] >= arr[index - 1]: \r\n",
        "\t\t\tindex = index + 1\r\n",
        "\t\telse: \r\n",
        "\t\t\tarr[index], arr[index-1] = arr[index-1], arr[index] \r\n",
        "\t\t\tindex = index - 1\r\n",
        "\r\n",
        "\treturn arr \r\n",
        "\r\n",
        "# Driver Code \r\n",
        "arr = [22, 99, 77, 22, 42, 53] \r\n",
        "n = len(arr) \r\n",
        "\r\n",
        "arr = gnomeSort(arr, n) \r\n",
        "print (\"Sorted seqquence after applying Gnome Sort :\"), \r\n",
        "for i in arr: \r\n",
        "\tprint (i), \r\n",
        "\r\n",
        "# Contributed By Harshit Agrawal \r\n"
      ],
      "execution_count": null,
      "outputs": [
        {
          "output_type": "stream",
          "text": [
            "Sorted seqquence after applying Gnome Sort :\n",
            "22\n",
            "22\n",
            "42\n",
            "53\n",
            "77\n",
            "99\n"
          ],
          "name": "stdout"
        }
      ]
    },
    {
      "cell_type": "code",
      "metadata": {
        "colab": {
          "base_uri": "https://localhost:8080/"
        },
        "id": "dCamNp6BQuFQ",
        "outputId": "f10e2b05-4613-4cd5-f7ed-6ff4fc50160d"
      },
      "source": [
        "# Python program to implement Gnome Sort \n",
        "\n",
        "# A function to sort the given list using Gnome sort \n",
        "def gnomeSort( arr, n): \n",
        "\tindex = 0\n",
        "\twhile index < n: \n",
        "\t\tif index == 0: \n",
        "\t\t\tindex = index + 1\n",
        "\t\tif arr[index] >= arr[index - 1]: \n",
        "\t\t\tindex = index + 1\n",
        "\t\telse: \n",
        "\t\t\tarr[index], arr[index-1] = arr[index-1], arr[index] \n",
        "\t\t\tindex = index - 1\n",
        "\n",
        "\treturn arr \n",
        "\n",
        "# Driver Code \n",
        "arr = [22, 99, 77, 22, 42, 53] \n",
        "n = len(arr) \n",
        "\n",
        "#arr = gnomeSort(arr, n) \n",
        "#print (\"Sorted seqquence after applying Gnome Sort :\"), \n",
        "#for i in arr: \n",
        "#\tprint (i), \n",
        "\n",
        "# Contributed By Harshit Agrawal \n",
        "\n",
        "#hitung\n",
        "import matplotlib.pyplot as plt\n",
        "import time\n",
        "import numpy as np\n",
        "np.random.seed(5)\n",
        "elapsedTimegnome={}\n",
        "inputsize=[10,100,1000,10000,100000]\n",
        "RunningTime=[]\n",
        "\n",
        "\n",
        "for i in inputsize:\n",
        "  begin = time.time()\n",
        "  random = np.random.random(size=i)\n",
        "  gnomeSort(random,n)\n",
        "  end = time.time()\n",
        "  elapsedTimegnome[i] = end-begin\n",
        "  \n",
        "print(elapsedTimegnome)\n",
        "\n"
      ],
      "execution_count": null,
      "outputs": [
        {
          "output_type": "stream",
          "text": [
            "{10: 0.00011777877807617188, 100: 3.4332275390625e-05, 1000: 6.890296936035156e-05, 10000: 0.005090951919555664, 100000: 0.0021185874938964844}\n"
          ],
          "name": "stdout"
        }
      ]
    },
    {
      "cell_type": "markdown",
      "metadata": {
        "id": "GvrrWGLvWgeX"
      },
      "source": [
        "{10: 0.00011777877807617188, 100: 3.4332275390625e-05, 1000: 6.890296936035156e-05, 10000: 0.005090951919555664, 100000: 0.0021185874938964844}"
      ]
    },
    {
      "cell_type": "code",
      "metadata": {
        "id": "mPphQOCrRYDv"
      },
      "source": [
        "import matplotlib.pyplot as plt\n",
        "import time\n",
        "import numpy as np"
      ],
      "execution_count": null,
      "outputs": []
    },
    {
      "cell_type": "code",
      "metadata": {
        "colab": {
          "base_uri": "https://localhost:8080/"
        },
        "id": "4rqk8bTdXCn2",
        "outputId": "38b09a73-5f5d-4635-caf1-95f079c6e882"
      },
      "source": [
        "# Python program for implementation of Bubble Sort \n",
        "\n",
        "def bubbleSort(arr): \n",
        "\tn = len(arr) \n",
        "\n",
        "\t# Traverse through all array elements \n",
        "\tfor i in range(n): \n",
        "\n",
        "\t\t# Last i elements are already in place \n",
        "\t\tfor j in range(0, n-i-1): \n",
        "\n",
        "\t\t\t# traverse the array from 0 to n-i-1 \n",
        "\t\t\t# Swap if the element found is greater \n",
        "\t\t\t# than the next element \n",
        "\t\t\tif arr[j] > arr[j+1] : \n",
        "\t\t\t\tarr[j], arr[j+1] = arr[j+1], arr[j] \n",
        "\n",
        "# Driver code to test above \n",
        "arr = [22, 99, 77, 22, 42, 53]\n",
        "\n",
        "bubbleSort(arr) \n",
        "\n",
        "print (\"Sorted array is:\") \n",
        "for i in range(len(arr)): \n",
        "\tprint (\"%d\" %arr[i]), \n"
      ],
      "execution_count": null,
      "outputs": [
        {
          "output_type": "stream",
          "text": [
            "Sorted array is:\n",
            "22\n",
            "22\n",
            "42\n",
            "53\n",
            "77\n",
            "99\n"
          ],
          "name": "stdout"
        }
      ]
    },
    {
      "cell_type": "code",
      "metadata": {
        "id": "viA38zioawtx"
      },
      "source": [
        "# Import PyDrive and associated libraries.\n",
        "# This only needs to be done once per notebook.\n",
        "from pydrive.auth import GoogleAuth\n",
        "from pydrive.drive import GoogleDrive\n",
        "from google.colab import auth\n",
        "from oauth2client.client import GoogleCredentials\n",
        "\n",
        "# Authenticate and create the PyDrive client.\n",
        "# This only needs to be done once per notebook.\n",
        "auth.authenticate_user()\n",
        "gauth = GoogleAuth()\n",
        "gauth.credentials = GoogleCredentials.get_application_default()\n",
        "drive = GoogleDrive(gauth)\n",
        "\n",
        "# Download a file based on its file ID.\n",
        "#\n",
        "# A file ID looks like: laggVyWshwcyP6kEI-y_W3P8D26sz\n",
        "file_id = 'REPLACE_WITH_YOUR_FILE_ID'\n",
        "downloaded = drive.CreateFile({'id': file_id})\n",
        "print('Downloaded content \"{}\"'.format(downloaded.GetContentString()))"
      ],
      "execution_count": null,
      "outputs": []
    },
    {
      "cell_type": "code",
      "metadata": {
        "colab": {
          "background_save": true
        },
        "id": "PNYvW7GtoouY",
        "outputId": "3875c592-40a7-4cda-98cb-c82895abfad8"
      },
      "source": [
        "# Python program for implementation of Bubble Sort \n",
        "import matplotlib.pyplot as plt\n",
        "import time\n",
        "import numpy as np\n",
        "def bubbleSort(arr): \n",
        "\tn = len(arr) \n",
        "\n",
        "\t# Traverse through all array elements \n",
        "\tfor i in range(n): \n",
        "\n",
        "\t\t# Last i elements are already in place \n",
        "\t\tfor j in range(0, n-i-1): \n",
        "\n",
        "\t\t\t# traverse the array from 0 to n-i-1 \n",
        "\t\t\t# Swap if the element found is greater \n",
        "\t\t\t# than the next element \n",
        "\t\t\tif arr[j] > arr[j+1] : \n",
        "\t\t\t\tarr[j], arr[j+1] = arr[j+1], arr[j] \n",
        "\n",
        "# Driver code to test above \n",
        "\n",
        "\n",
        "arr = [22, 99, 77, 22, 42, 53]\n",
        "\n",
        "bubbleSort(arr)\n",
        "np.random.seed(5)\n",
        "elapsedTimeBubble={}\n",
        "inputsize=[10,100,1000,10000,100000]\n",
        "RunningTime=[]\n",
        "\n",
        "\n",
        "for i in inputsize:\n",
        "  begin = time.time()\n",
        "  random = np.random.random(size=i)\n",
        "  bubbleSort(random)\n",
        "  end = time.time()\n",
        "  elapsedTimeBubble[i] = end-begin\n",
        "  \n",
        "print(elapsedTimeBubble) \n",
        "\n",
        "#print (\"Sorted array is:\") \n",
        "#for i in range(len(arr)): \n",
        "#\tprint (\"%d\" %arr[i]), \n"
      ],
      "execution_count": null,
      "outputs": [
        {
          "output_type": "stream",
          "text": [
            "{10: 0.00010323524475097656, 100: 0.0035054683685302734, 1000: 0.3578612804412842, 10000: 34.09858012199402, 100000: 3443.098027944565}\n"
          ],
          "name": "stdout"
        }
      ]
    },
    {
      "cell_type": "markdown",
      "metadata": {
        "id": "q9NHmu5Gai2Z"
      },
      "source": [
        "{10: 0.00010323524475097656, 100: 0.0035054683685302734, 1000: 0.3578612804412842, 10000: 34.09858012199402, 100000: 3443.098027944565}"
      ]
    }
  ]
}